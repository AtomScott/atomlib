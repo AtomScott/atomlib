{
 "cells": [
  {
   "cell_type": "code",
   "execution_count": null,
   "metadata": {},
   "outputs": [],
   "source": [
    "# default_exp cp"
   ]
  },
  {
   "cell_type": "markdown",
   "metadata": {},
   "source": [
    "# Competitive Programming Library\n",
    "\n",
    "> Things to be used by copy & paste. Also useful for other situtations as well!\n",
    "\n",
    "(Not callable from atomlib)."
   ]
  },
  {
   "cell_type": "code",
   "execution_count": null,
   "metadata": {},
   "outputs": [],
   "source": [
    "#hide\n",
    "from atomlib.utils import timing"
   ]
  },
  {
   "cell_type": "markdown",
   "metadata": {},
   "source": [
    "## Prime Number Problems"
   ]
  },
  {
   "cell_type": "markdown",
   "metadata": {},
   "source": [
    "### Check for primes\n",
    "\n",
    "Find wether a number is prime or not"
   ]
  },
  {
   "cell_type": "code",
   "execution_count": null,
   "metadata": {},
   "outputs": [],
   "source": [
    "def is_prime(n: int) -> bool:\n",
    "    # Corner cases \n",
    "    if (n <= 1) : \n",
    "        return False\n",
    "    if (n <= 3) : \n",
    "        return True\n",
    "  \n",
    "    # This is checked so that we can skip  \n",
    "    # middle five numbers in below loop \n",
    "    if (n % 2 == 0 or n % 3 == 0) : \n",
    "        return False\n",
    "  \n",
    "    i = 5\n",
    "    while(i * i <= n) : \n",
    "        if (n % i == 0 or n % (i + 2) == 0) : \n",
    "            return False\n",
    "        i = i + 6\n",
    "  \n",
    "    return True"
   ]
  },
  {
   "cell_type": "code",
   "execution_count": null,
   "metadata": {},
   "outputs": [
    {
     "name": "stdout",
     "output_type": "stream",
     "text": [
      "944 µs ± 30.9 µs per loop (mean ± std. dev. of 7 runs, 1000 loops each)\n"
     ]
    }
   ],
   "source": [
    "%timeit is_prime(10**9+7)"
   ]
  },
  {
   "cell_type": "markdown",
   "metadata": {},
   "source": [
    "### Sieve of Eratosthenes\n",
    "\n",
    "Gives all prime numbers less than or equal to n."
   ]
  },
  {
   "cell_type": "code",
   "execution_count": null,
   "metadata": {},
   "outputs": [],
   "source": [
    "\n",
    "def sieve_of_eratosthenes(n):\n",
    "    prime = [True for i in range(n+1)]\n",
    "    p = 2\n",
    "    while p**2 <= n:\n",
    "        if prime[p] == True:\n",
    "            \n",
    "            for i in range(p**2, n+1, p):\n",
    "                prime[i] = False\n",
    "        p += 1\n",
    "        \n",
    "    return [p for p in range(2, n) if prime[p]]"
   ]
  },
  {
   "cell_type": "code",
   "execution_count": null,
   "metadata": {},
   "outputs": [
    {
     "name": "stdout",
     "output_type": "stream",
     "text": [
      "151 ms ± 6.59 ms per loop (mean ± std. dev. of 7 runs, 1 loop each)\n"
     ]
    }
   ],
   "source": [
    "%timeit sieve_of_eratosthenes(10**6)"
   ]
  },
  {
   "cell_type": "markdown",
   "metadata": {},
   "source": [
    "### Legendre’s formula\n",
    "\n",
    "Given an integer $n$ and a prime number $p$, find the largest $x$ such that $p^x$ divides $n!$"
   ]
  },
  {
   "cell_type": "code",
   "execution_count": null,
   "metadata": {},
   "outputs": [
    {
     "name": "stdout",
     "output_type": "stream",
     "text": [
      "1.34 µs ± 41.2 ns per loop (mean ± std. dev. of 7 runs, 1000000 loops each)\n"
     ]
    }
   ],
   "source": [
    "def largest_power(n, p): \n",
    "    x = 0\n",
    "    while n: \n",
    "        n = n // p \n",
    "        x += n \n",
    "    return x \n",
    "\n",
    "%timeit largest_power(10**18, 27)"
   ]
  },
  {
   "cell_type": "markdown",
   "metadata": {},
   "source": [
    "## Combinatrics\n",
    "\n",
    "Resources: \n",
    "\n",
    "- [Combinatorices, Dr. Phillip M. Feldman](https://phillipmfeldman.org/Python/combinatorics.html)"
   ]
  },
  {
   "cell_type": "markdown",
   "metadata": {},
   "source": [
    "### Multinomial Coefficient\n",
    "\n",
    "\n",
    "A multinomial coefficient is often written in the form\n",
    "\n",
    "$$\\binom{n}{k_1,k_2,\\ldots,k_m}$$\n",
    "\n",
    "where $k_1+k_2+\\cdots+k_m = n.$ Because of that last equation, the n is redundant. Binomial coefficients are technically multinomial coefficients as well, but instead of writing $\\binom{n}{k_1,k_2}$ where $k1+k2=n$, we usually write either $\\binom{n}{k_1}$ or $\\binom{n}{k_2}$. These are all mean exactly the same thing:\n",
    "\n",
    "$$\\binom{k_1+k_2}{k_1,k_2}=\\binom{k_1+k_2}{k_1}=\\binom{k_1+k_2}{k_2} = \\frac{(k_1+k_2)!}{k_1!\\,k_2!}.$$\n",
    "\n",
    "A multinomial coefficient can arise in a counting problem as follows:\n",
    "\n",
    "- You have **$m$ containers**, with sizes $k_1,k_2,…,k_m$ respectively.\n",
    "- You have $n=k_1+k_2+⋯+k_m$ distinguishable objects, which are just enough to fill every container when drawing from the n objects **without replacement**.\n",
    "- The order of the containers matters.\n",
    "- The order of the objects within each container does not matter."
   ]
  },
  {
   "cell_type": "code",
   "execution_count": null,
   "metadata": {},
   "outputs": [],
   "source": [
    "#export\n",
    "def multinomial_coefficients(K):\n",
    "    \"\"\"\n",
    "    Returns the multinomial coefficients\n",
    "    \n",
    "    - `K` - A list of $k_1, k_2...$\n",
    "    \"\"\"\n",
    "    res, i = 1, sum(K)\n",
    "    i0 = K.index(max(K))\n",
    "    for a in K[:i0] + K[i0+1:]:\n",
    "        for j in range(1,a+1):\n",
    "            res *= i\n",
    "            res //= j\n",
    "            i -= 1\n",
    "    return res\n",
    "\n",
    "def multinomial_combinations(items):\n",
    "    return set(permutations(items))"
   ]
  },
  {
   "cell_type": "markdown",
   "metadata": {},
   "source": [
    "Examples:\n",
    "\n",
    "- **How many words can you make from the letters in *coffee*?**\n",
    "\n",
    "The word *coffee* contains the letters C×1, O×1, F×2, E×2. Therefore the permutations will be,\n",
    "\n",
    "$$\\binom{6}{1, 1, 2, 2} = \\frac{6!}{1!1!2!2!} = 180$$\n",
    "\n",
    "- **How many ways to divide a class of 15 students into 3 groups, A, B and C?**\n",
    "\n",
    "$$\\binom{15}{3, 3, 3, 3, 3} = \\frac{15!}{(3!)^5} = 168168000$$"
   ]
  },
  {
   "cell_type": "code",
   "execution_count": null,
   "metadata": {},
   "outputs": [
    {
     "name": "stdout",
     "output_type": "stream",
     "text": [
      "168168000\n",
      "34650\n"
     ]
    }
   ],
   "source": [
    "def multinomial_coefficients(K):\n",
    "    \"\"\"\n",
    "    Computes the multinomial coefficient\n",
    "    K = [k1, k2, k3, k4...]\n",
    "    src: https://stackoverflow.com/a/46378809/5034709\n",
    "    \"\"\"\n",
    "    res, i = 1, sum(K)\n",
    "    i0 = K.index(max(K))\n",
    "    for a in K[:i0] + K[i0+1:]:\n",
    "        for j in range(1,a+1):\n",
    "            res *= i\n",
    "            res //= j\n",
    "            i -= 1\n",
    "    return res\n",
    "\n",
    "K = [3,3,3,3,3]\n",
    "print(multinomial_coefficients(K))\n",
    "\n",
    "K = ['MISSISSIPPI'.count(c) for c in set('MISSISSIPPI')]\n",
    "print(multinomial_coefficients(K))"
   ]
  },
  {
   "cell_type": "markdown",
   "metadata": {},
   "source": [
    "Very slow method of computing multinomial combinations using permutations and sets"
   ]
  },
  {
   "cell_type": "code",
   "execution_count": null,
   "metadata": {},
   "outputs": [
    {
     "name": "stdout",
     "output_type": "stream",
     "text": [
      "('S', 'S', 'S', 'P', 'I', 'I', 'P', 'M', 'S', 'I', 'I')\n",
      "34650\n",
      "Time: 3.9913318157196045\n"
     ]
    }
   ],
   "source": [
    "from itertools import permutations\n",
    "\n",
    "def multinomial_combinations_slow(items):\n",
    "    return set(permutations(items))\n",
    "\n",
    "items = [c for c in 'MISSISSIPPI']\n",
    "with timing():\n",
    "    combs = multinomial_combinations_slow(items)\n",
    "    print(next(iter(combs)))\n",
    "    print(len(combs))"
   ]
  },
  {
   "cell_type": "markdown",
   "metadata": {},
   "source": [
    "Below is a faster dynamic programming solution."
   ]
  },
  {
   "cell_type": "code",
   "execution_count": null,
   "metadata": {},
   "outputs": [
    {
     "name": "stdout",
     "output_type": "stream",
     "text": [
      "[('M', 'I', 'I', 'I', 'I', 'S', 'S', 'S', 'S', 'P', 'P')]\n",
      "Time: 0.0003483295440673828\n"
     ]
    }
   ],
   "source": [
    "from itertools import combinations\n",
    "\n",
    "from itertools import chain,repeat,islice,count\n",
    "from collections import Counter\n",
    "\n",
    "def combinations_without_repetition(r, iterable=None, values=None, counts=None):\n",
    "    if iterable:\n",
    "        values, counts = zip(*Counter(iterable).items())\n",
    "\n",
    "    f = lambda i,c: chain.from_iterable(map(repeat, i, c))\n",
    "    n = len(counts)\n",
    "    indices = list(islice(f(count(),counts), r))\n",
    "    if len(indices) < r:\n",
    "        return\n",
    "    while True:\n",
    "        yield tuple(values[i] for i in indices)\n",
    "        for i,j in zip(reversed(range(r)), f(reversed(range(n)), reversed(counts))):\n",
    "            if indices[i] != j:\n",
    "                break\n",
    "        else:\n",
    "            return\n",
    "        j = indices[i]+1\n",
    "        for i,j in zip(range(i,r), f(count(j), islice(counts, j, None))):\n",
    "            indices[i] = j\n",
    "\n",
    "with timing():\n",
    "    combs = combinations_without_repetition(len(items),items)\n",
    "    print(list(combs))\n",
    "#     print(next(iter(combs)))\n",
    "#     print(len(combs))"
   ]
  },
  {
   "cell_type": "code",
   "execution_count": null,
   "metadata": {},
   "outputs": [],
   "source": [
    "    if len(K) == 1:\n",
    "        for c in combinations(items, K[0]):\n",
    "            yield (c,)\n",
    "    else:\n",
    "        for c_first in combinations(items, K[0]):\n",
    "            items_remaining = []\n",
    "            for c_other in m_way_ordered_combinations(items_remaining, K[1:]):\n",
    "                yield (c_first,) + c_other\n"
   ]
  },
  {
   "cell_type": "code",
   "execution_count": null,
   "metadata": {},
   "outputs": [
    {
     "data": {
      "text/plain": [
       "array([[5, 0, 0],\n",
       "       [4, 1, 0],\n",
       "       [4, 0, 1],\n",
       "       [3, 2, 0],\n",
       "       [3, 1, 1],\n",
       "       [3, 0, 2],\n",
       "       [2, 3, 0],\n",
       "       [2, 2, 1],\n",
       "       [2, 1, 2],\n",
       "       [2, 0, 3],\n",
       "       [1, 4, 0],\n",
       "       [1, 3, 1],\n",
       "       [1, 2, 2],\n",
       "       [1, 1, 3],\n",
       "       [1, 0, 4],\n",
       "       [0, 5, 0],\n",
       "       [0, 4, 1],\n",
       "       [0, 3, 2],\n",
       "       [0, 2, 3],\n",
       "       [0, 1, 4],\n",
       "       [0, 0, 5]])"
      ]
     },
     "execution_count": null,
     "metadata": {},
     "output_type": "execute_result"
    }
   ],
   "source": [
    "import numpy, itertools\n",
    "\n",
    "def multiset_combinations(n, k, max_power=None):\n",
    "    \"\"\"returns a list (2d numpy array) of all length k sequences of \n",
    "    non-negative integers n1, ..., nk such that n1 + ... + nk = n.\"\"\"\n",
    "    bar_placements = itertools.combinations(range(1, n+k), k-1)\n",
    "    tmp = [(0,) + x + (n+k,) for x in bar_placements]\n",
    "    sequences =  numpy.diff(tmp) - 1\n",
    "    if max_power:\n",
    "        return sequences[numpy.where((sequences<=max_power).all(axis=1))][::-1]\n",
    "    else:\n",
    "        return sequences[::-1]\n",
    "\n",
    "K = 3\n",
    "multinomial_combinations(5, K)"
   ]
  },
  {
   "cell_type": "markdown",
   "metadata": {},
   "source": [
    "## Multiset Coefficient\n",
    "\n",
    "A multiset coefficient is often written in the form\n",
    "\n",
    "$$\\binom{n+k-1}{k}$$\n",
    "\n",
    "A multiset coefficient can arise as follows:\n",
    "\n",
    "- You have n distinguishable objects.\n",
    "- You have a **single container** able to hold k objects.\n",
    "- You draw objects from the n objects with replacement, and put the copies of those objects into the container.\n",
    "- You continue putting copies of objects in the container until it is full.\n",
    "- The order of objects in the container does not matter.\n",
    "\n",
    "A multiset coefficient can alternatively arise this way:\n",
    "\n",
    "- You have k objects that are indistinguishable or that you choose not to distinguish.\n",
    "- You have n containers, each with effectively infinite capacity (they never get full).\n",
    "- You draw the objects without replacement and put them in the containers.\n",
    "- The order of the containers matters.\n",
    "- The order of objects in a container cannot matter, because by assumption you cannot tell which object is which, only how many are in each container.\n"
   ]
  },
  {
   "cell_type": "markdown",
   "metadata": {},
   "source": [
    "<hr>\n",
    "\n",
    "## Memoization"
   ]
  },
  {
   "cell_type": "markdown",
   "metadata": {},
   "source": [
    "### Factorial\n",
    "\n",
    "Calculates all the factorials up to n, $O(n)$.\n",
    "\n",
    "Max n is $10^4$. If theres a large prime look at the `factorial_mod()` solution."
   ]
  },
  {
   "cell_type": "code",
   "execution_count": null,
   "metadata": {},
   "outputs": [],
   "source": [
    "def init_factorial(n):\n",
    "    facs = [1]\n",
    "    for i in range(1, n+1):\n",
    "        facs.append(facs[i-1] * i)\n",
    "    return facs\n",
    "\n",
    "facs = init_factorial(10**4)"
   ]
  },
  {
   "cell_type": "markdown",
   "metadata": {},
   "source": [
    "<hr>\n",
    "\n",
    "## Modulo 10**9 + 7 Problems"
   ]
  },
  {
   "cell_type": "markdown",
   "metadata": {},
   "source": [
    "### Binomial Modulo\n",
    "\n",
    "Fast way to solve $nCr \\ \\ \\% \\ \\ MOD $ when MOD is prime."
   ]
  },
  {
   "cell_type": "code",
   "execution_count": null,
   "metadata": {},
   "outputs": [
    {
     "name": "stdout",
     "output_type": "stream",
     "text": [
      "285 ms ± 5.32 ms per loop (mean ± std. dev. of 7 runs, 1 loop each)\n"
     ]
    }
   ],
   "source": [
    "def binomial_mod(n, k, p):\n",
    "    numerator = 1\n",
    "    for i in range(k):\n",
    "        numerator = (numerator * (n-i)) % p\n",
    "\n",
    "    denominator = 1\n",
    "    for i in range(1, k+1):\n",
    "        denominator = (denominator * i) % p\n",
    "\n",
    "    return (numerator * pow(denominator, p-2, p)) % p\n",
    "\n",
    "MOD = 10**9+7\n",
    "%timeit binomial_mod(10**9, 10**6, MOD)"
   ]
  },
  {
   "cell_type": "markdown",
   "metadata": {},
   "source": [
    "### Factorial Modulo\n",
    "\n",
    "Fast way to solve $n!\\ \\ \\% \\ \\ MOD$ when MOD is prime"
   ]
  },
  {
   "cell_type": "code",
   "execution_count": null,
   "metadata": {},
   "outputs": [
    {
     "name": "stdout",
     "output_type": "stream",
     "text": [
      "125 ms ± 3 ms per loop (mean ± std. dev. of 7 runs, 10 loops each)\n"
     ]
    }
   ],
   "source": [
    "def factorial_mod(n, p) : \n",
    "    ans = 1\n",
    "    for i in range(1, n+1):\n",
    "        ans = ans * i % p\n",
    "    return ans\n",
    "\n",
    "MOD = 10**9+7\n",
    "%timeit factorial_mod(10**6, MOD)"
   ]
  },
  {
   "cell_type": "code",
   "execution_count": null,
   "metadata": {},
   "outputs": [],
   "source": []
  }
 ],
 "metadata": {
  "kernelspec": {
   "display_name": "Python 3.8.1 64-bit ('venv': venv)",
   "language": "python",
   "name": "python38164bitvenvvenv1ebea86800e34987bab032d446f89d2b"
  }
 },
 "nbformat": 4,
 "nbformat_minor": 4
}
